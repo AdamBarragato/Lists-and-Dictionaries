{
  "metadata": {
    "kernelspec": {
      "name": "python",
      "display_name": "Python (Pyodide)",
      "language": "python"
    },
    "language_info": {
      "codemirror_mode": {
        "name": "python",
        "version": 3
      },
      "file_extension": ".py",
      "mimetype": "text/x-python",
      "name": "python",
      "nbconvert_exporter": "python",
      "pygments_lexer": "ipython3",
      "version": "3.8"
    }
  },
  "nbformat_minor": 4,
  "nbformat": 4,
  "cells": [
    {
      "cell_type": "markdown",
      "source": "# Module 2 Code Examples - Lists and Dictionaries",
      "metadata": {}
    },
    {
      "cell_type": "code",
      "source": "from IPython.core.interactiveshell import InteractiveShell\nInteractiveShell.ast_node_interactivity = \"all\"",
      "metadata": {
        "trusted": true
      },
      "outputs": [],
      "execution_count": null
    },
    {
      "cell_type": "markdown",
      "source": "## List Operations",
      "metadata": {}
    },
    {
      "cell_type": "code",
      "source": "my_list = [] #Creates an empty list\ngrocery_list = ['apples','oranges','broccoli','zucchini','bread','eggs'] #creating a list with values",
      "metadata": {
        "trusted": true
      },
      "outputs": [],
      "execution_count": null
    },
    {
      "cell_type": "markdown",
      "source": "Basic Operations",
      "metadata": {}
    },
    {
      "cell_type": "code",
      "source": "grocery_list[0] #access values via indexing\nlen(grocery_list) #prints length\nsorted(grocery_list) #sorts the list in ascending order. Note that this new order is not preserved unless you save it as a new variable!",
      "metadata": {
        "trusted": true
      },
      "outputs": [],
      "execution_count": null
    },
    {
      "cell_type": "code",
      "source": "grocery_list.count('apples') #checks how many times the specified value appears in the list\n\ngrocery_list.count('cereal') #this returns 0 since it is not in the list\n\n#You can also use the `in` keyword to check if an item exists\nif 'oranges' in grocery_list:\n    print(\"Already added!\")",
      "metadata": {
        "trusted": true
      },
      "outputs": [],
      "execution_count": null
    },
    {
      "cell_type": "markdown",
      "source": "Adding and Removing Items",
      "metadata": {}
    },
    {
      "cell_type": "code",
      "source": "grocery_list.append('peanut butter') #adds to the end of the list\ngrocery_list.insert(0,'lemons') #inserts a new element at the specified position\nprint(grocery_list)\ngrocery_list.remove('peanut butter') #remove the first instance of the specified value from a list\nprint(grocery_list)",
      "metadata": {
        "trusted": true
      },
      "outputs": [],
      "execution_count": null
    },
    {
      "cell_type": "markdown",
      "source": "## Dictionaries",
      "metadata": {}
    },
    {
      "cell_type": "code",
      "source": "phone_numbers = {} #creates an empty dictionary\naddresses = {\"Bob\": \"123 Main Street\", \"Jane\": \"44 2nd Street\"} #example of creating a dictionary with data",
      "metadata": {
        "trusted": true
      },
      "outputs": [],
      "execution_count": null
    },
    {
      "cell_type": "markdown",
      "source": "Basic Dictionary Operations",
      "metadata": {}
    },
    {
      "cell_type": "code",
      "source": "len(phone_numbers) #checks how many key/value pairs are in the dictionary\nlen(addresses)\naddresses.keys() #will return all keys in the dictionary\naddresses.values() # can be used to access all values\naddresses.items() # see everything in a dictionary",
      "metadata": {
        "trusted": true
      },
      "outputs": [],
      "execution_count": null
    },
    {
      "cell_type": "code",
      "source": "addresses[\"Bob\"] #we can look up values in a dictionary by searching for the key\naddresses[\"Bob\"] = \"456 Main Street\" # This replaces the value with a new one\naddresses[\"Bob\"]",
      "metadata": {
        "trusted": true
      },
      "outputs": [],
      "execution_count": null
    },
    {
      "cell_type": "code",
      "source": "addresses['Pete'] #this fails because we don't have a \"Pete\" key",
      "metadata": {
        "trusted": true
      },
      "outputs": [],
      "execution_count": null
    },
    {
      "cell_type": "code",
      "source": "addresses[\"Pete\"] = \"101 N Grant Street\" #Luckily, we can create a new Key/Value pair if we want to add something to a dictionary",
      "metadata": {
        "trusted": true
      },
      "outputs": [],
      "execution_count": null
    },
    {
      "cell_type": "markdown",
      "source": "## Comparing Execution Time between Lists and Dictionaries",
      "metadata": {}
    },
    {
      "cell_type": "code",
      "source": "%%time \n#jupyter operation that is used to report on how long a cell takes to run\n\nsmall_list = list(range(100000)) #creating a list of length 100,000 \nfor i in small_list:\n    if i == 99999: #simulates the worst case scenario for searching a list where you have to look through all values to find the one you are looking for\n        break",
      "metadata": {
        "trusted": true
      },
      "outputs": [],
      "execution_count": null
    },
    {
      "cell_type": "code",
      "source": "%%time\nlarge_list = list(range(1000000)) # now do the same on a list that is 1,000,000 values long\nfor i in large_list:\n    if i == 999999:\n        break",
      "metadata": {
        "trusted": true
      },
      "outputs": [],
      "execution_count": null
    },
    {
      "cell_type": "markdown",
      "source": "Above, we can see a few different times reported.  \n* Wall time is essentially like using a stopwatch to time the code.  It measures the actual time elapsed.\n* User time represents the time the CPU spent running the code itself, not including anything else that might be running on the computer or time for file input/output.\n\nIn this scenario, CPU time and wall time are virtually the same, so it doesn't matter, but user times are often the best way to benchmark code performance.\n\nAs we can see, the \"worst case\" search scenario takes much longer as the list length increases. Now, let's see if the same is true for dictionaries.",
      "metadata": {}
    },
    {
      "cell_type": "code",
      "source": "# First, we will populate the dictionaries before performing a simulated search\nsmall_dict = {}\nfor i in range (100000):\n    small_dict[i]= i\nlarge_dict = {}\nfor i in range(1000000):\n    large_dict[i] = i",
      "metadata": {
        "trusted": true
      },
      "outputs": [],
      "execution_count": null
    },
    {
      "cell_type": "code",
      "source": "%%time\nprint(small_dict[99999])",
      "metadata": {
        "trusted": true
      },
      "outputs": [],
      "execution_count": null
    },
    {
      "cell_type": "code",
      "source": "%%time\nprint(large_dict[999999])",
      "metadata": {
        "trusted": true
      },
      "outputs": [],
      "execution_count": null
    },
    {
      "cell_type": "markdown",
      "source": "There will be some variability if you run it multiple times, but we can see that:\n1. Dictionaries are much faster in general than lists (µs vs ms)\n2. Search time does not scale with list length",
      "metadata": {}
    }
  ]
}