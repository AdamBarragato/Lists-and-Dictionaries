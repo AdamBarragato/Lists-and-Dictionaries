{
 "cells": [
  {
   "cell_type": "markdown",
   "metadata": {},
   "source": [
    "# Module 2 Code Examples - Lists and Dictionaries"
   ]
  },
  {
   "cell_type": "code",
   "execution_count": 24,
   "metadata": {},
   "outputs": [],
   "source": [
    "from IPython.core.interactiveshell import InteractiveShell\n",
    "InteractiveShell.ast_node_interactivity = \"all\""
   ]
  },
  {
   "cell_type": "markdown",
   "metadata": {},
   "source": [
    "## List Operations"
   ]
  },
  {
   "cell_type": "code",
   "execution_count": 25,
   "metadata": {},
   "outputs": [],
   "source": [
    "my_list = [] #Creates an empty list\n",
    "grocery_list = ['apples','oranges','broccoli','zucchini','bread','eggs'] #creating a list with values"
   ]
  },
  {
   "cell_type": "markdown",
   "metadata": {},
   "source": [
    "Basic Operations"
   ]
  },
  {
   "cell_type": "code",
   "execution_count": 26,
   "metadata": {},
   "outputs": [
    {
     "data": {
      "text/plain": [
       "'apples'"
      ]
     },
     "execution_count": 26,
     "metadata": {},
     "output_type": "execute_result"
    },
    {
     "data": {
      "text/plain": [
       "6"
      ]
     },
     "execution_count": 26,
     "metadata": {},
     "output_type": "execute_result"
    },
    {
     "data": {
      "text/plain": [
       "['apples', 'bread', 'broccoli', 'eggs', 'oranges', 'zucchini']"
      ]
     },
     "execution_count": 26,
     "metadata": {},
     "output_type": "execute_result"
    }
   ],
   "source": [
    "grocery_list[0] #access values via indexing\n",
    "len(grocery_list) #prints length\n",
    "sorted(grocery_list) #sorts the list in ascending order. Note that this new order is not preserved unless you save it as a new variable!"
   ]
  },
  {
   "cell_type": "code",
   "execution_count": 27,
   "metadata": {},
   "outputs": [
    {
     "data": {
      "text/plain": [
       "1"
      ]
     },
     "execution_count": 27,
     "metadata": {},
     "output_type": "execute_result"
    },
    {
     "data": {
      "text/plain": [
       "0"
      ]
     },
     "execution_count": 27,
     "metadata": {},
     "output_type": "execute_result"
    },
    {
     "name": "stdout",
     "output_type": "stream",
     "text": [
      "Already added!\n"
     ]
    }
   ],
   "source": [
    "grocery_list.count('apples') #checks how many times the specified value appears in the list\n",
    "\n",
    "grocery_list.count('cereal') #this returns 0 since it is not in the list\n",
    "\n",
    "#You can also use the `in` keyword to check if an item exists\n",
    "if 'oranges' in grocery_list:\n",
    "    print(\"Already added!\")"
   ]
  },
  {
   "cell_type": "markdown",
   "metadata": {},
   "source": [
    "Adding and Removing Items"
   ]
  },
  {
   "cell_type": "code",
   "execution_count": 28,
   "metadata": {},
   "outputs": [
    {
     "name": "stdout",
     "output_type": "stream",
     "text": [
      "['lemons', 'apples', 'oranges', 'broccoli', 'zucchini', 'bread', 'eggs', 'peanut butter']\n",
      "['lemons', 'apples', 'oranges', 'broccoli', 'zucchini', 'bread', 'eggs']\n"
     ]
    }
   ],
   "source": [
    "grocery_list.append('peanut butter') #adds to the end of the list\n",
    "grocery_list.insert(0,'lemons') #inserts a new element at the specified position\n",
    "print(grocery_list)\n",
    "grocery_list.remove('peanut butter') #remove the first instance of the specified value from a list\n",
    "print(grocery_list)"
   ]
  },
  {
   "cell_type": "markdown",
   "metadata": {},
   "source": [
    "## Dictionaries"
   ]
  },
  {
   "cell_type": "code",
   "execution_count": 29,
   "metadata": {},
   "outputs": [],
   "source": [
    "phone_numbers = {} #creates an empty dictionary\n",
    "addresses = {\"Bob\": \"123 Main Street\", \"Jane\": \"44 2nd Street\"} #example of creating a dictionary with data"
   ]
  },
  {
   "cell_type": "markdown",
   "metadata": {},
   "source": [
    "Basic Dictionary Operations"
   ]
  },
  {
   "cell_type": "code",
   "execution_count": 30,
   "metadata": {},
   "outputs": [
    {
     "data": {
      "text/plain": [
       "0"
      ]
     },
     "execution_count": 30,
     "metadata": {},
     "output_type": "execute_result"
    },
    {
     "data": {
      "text/plain": [
       "2"
      ]
     },
     "execution_count": 30,
     "metadata": {},
     "output_type": "execute_result"
    },
    {
     "data": {
      "text/plain": [
       "dict_keys(['Bob', 'Jane'])"
      ]
     },
     "execution_count": 30,
     "metadata": {},
     "output_type": "execute_result"
    },
    {
     "data": {
      "text/plain": [
       "dict_values(['123 Main Street', '44 2nd Street'])"
      ]
     },
     "execution_count": 30,
     "metadata": {},
     "output_type": "execute_result"
    },
    {
     "data": {
      "text/plain": [
       "dict_items([('Bob', '123 Main Street'), ('Jane', '44 2nd Street')])"
      ]
     },
     "execution_count": 30,
     "metadata": {},
     "output_type": "execute_result"
    }
   ],
   "source": [
    "len(phone_numbers) #checks how many key/value pairs are in the dictionary\n",
    "len(addresses)\n",
    "addresses.keys() #will return all keys in the dictionary\n",
    "addresses.values() # can be used to access all values\n",
    "addresses.items() # see everything in a dictionary"
   ]
  },
  {
   "cell_type": "code",
   "execution_count": 31,
   "metadata": {},
   "outputs": [
    {
     "data": {
      "text/plain": [
       "'123 Main Street'"
      ]
     },
     "execution_count": 31,
     "metadata": {},
     "output_type": "execute_result"
    },
    {
     "data": {
      "text/plain": [
       "'456 Main Street'"
      ]
     },
     "execution_count": 31,
     "metadata": {},
     "output_type": "execute_result"
    }
   ],
   "source": [
    "addresses[\"Bob\"] #we can look up values in a dictionary by searching for the key\n",
    "addresses[\"Bob\"] = \"456 Main Street\" # This replaces the value with a new one\n",
    "addresses[\"Bob\"]"
   ]
  },
  {
   "cell_type": "code",
   "execution_count": 32,
   "metadata": {},
   "outputs": [
    {
     "ename": "KeyError",
     "evalue": "'Pete'",
     "output_type": "error",
     "traceback": [
      "\u001b[0;31m---------------------------------------------------------------------------\u001b[0m",
      "\u001b[0;31mKeyError\u001b[0m                                  Traceback (most recent call last)",
      "Cell \u001b[0;32mIn[32], line 1\u001b[0m\n\u001b[0;32m----> 1\u001b[0m \u001b[43maddresses\u001b[49m\u001b[43m[\u001b[49m\u001b[38;5;124;43m'\u001b[39;49m\u001b[38;5;124;43mPete\u001b[39;49m\u001b[38;5;124;43m'\u001b[39;49m\u001b[43m]\u001b[49m \u001b[38;5;66;03m#this fails because we don't have a \"Pete\" key\u001b[39;00m\n",
      "\u001b[0;31mKeyError\u001b[0m: 'Pete'"
     ]
    }
   ],
   "source": [
    "addresses['Pete'] #this fails because we don't have a \"Pete\" key"
   ]
  },
  {
   "cell_type": "code",
   "execution_count": 33,
   "metadata": {},
   "outputs": [],
   "source": [
    "addresses[\"Pete\"] = \"101 N Grant Street\" #Luckily, we can create a new Key/Value pair if we want to add something to a dictionary"
   ]
  },
  {
   "cell_type": "markdown",
   "metadata": {},
   "source": [
    "## Comparing Execution Time between Lists and Dictionaries"
   ]
  },
  {
   "cell_type": "code",
   "execution_count": 34,
   "metadata": {},
   "outputs": [
    {
     "name": "stdout",
     "output_type": "stream",
     "text": [
      "CPU times: user 10.4 ms, sys: 1.57 ms, total: 12 ms\n",
      "Wall time: 11.8 ms\n"
     ]
    }
   ],
   "source": [
    "%%time \n",
    "#jupyter operation that is used to report on how long a cell takes to run\n",
    "\n",
    "small_list = list(range(100000)) #creating a list of length 100,000 \n",
    "for i in small_list:\n",
    "    if i == 99999: #simulates the worst case scenario for searching a list where you have to look through all values to find the one you are looking for\n",
    "        break"
   ]
  },
  {
   "cell_type": "code",
   "execution_count": 35,
   "metadata": {},
   "outputs": [
    {
     "name": "stdout",
     "output_type": "stream",
     "text": [
      "CPU times: user 88.7 ms, sys: 8.2 ms, total: 96.9 ms\n",
      "Wall time: 95.9 ms\n"
     ]
    }
   ],
   "source": [
    "%%time\n",
    "large_list = list(range(1000000)) # now do the same on a list that is 1,000,000 values long\n",
    "for i in large_list:\n",
    "    if i == 999999:\n",
    "        break"
   ]
  },
  {
   "cell_type": "markdown",
   "metadata": {},
   "source": [
    "Above, we can see a few different times reported.  \n",
    "* Wall time is essentially like using a stopwatch to time the code.  It measures the actual time elapsed.\n",
    "* User time represents the time the CPU spent running the code itself, not including anything else that might be running on the computer or time for file input/output.\n",
    "\n",
    "In this scenario, CPU time and wall time are virtually the same, so it doesn't matter, but user times are often the best way to benchmark code performance.\n",
    "\n",
    "As we can see, the \"worst case\" search scenario takes much longer as the list length increases. Now, let's see if the same is true for dictionaries."
   ]
  },
  {
   "cell_type": "code",
   "execution_count": 36,
   "metadata": {},
   "outputs": [],
   "source": [
    "# First, we will populate the dictionaries before performing a simulated search\n",
    "small_dict = {}\n",
    "for i in range (100000):\n",
    "    small_dict[i]= i\n",
    "large_dict = {}\n",
    "for i in range(1000000):\n",
    "    large_dict[i] = i"
   ]
  },
  {
   "cell_type": "code",
   "execution_count": 37,
   "metadata": {},
   "outputs": [
    {
     "name": "stdout",
     "output_type": "stream",
     "text": [
      "99999\n",
      "CPU times: user 61 µs, sys: 7 µs, total: 68 µs\n",
      "Wall time: 66 µs\n"
     ]
    }
   ],
   "source": [
    "%%time\n",
    "print(small_dict[99999])"
   ]
  },
  {
   "cell_type": "code",
   "execution_count": 38,
   "metadata": {},
   "outputs": [
    {
     "name": "stdout",
     "output_type": "stream",
     "text": [
      "999999\n",
      "CPU times: user 47 µs, sys: 7 µs, total: 54 µs\n",
      "Wall time: 53.2 µs\n"
     ]
    }
   ],
   "source": [
    "%%time\n",
    "print(large_dict[999999])"
   ]
  },
  {
   "cell_type": "markdown",
   "metadata": {},
   "source": [
    "There will be some variability if you run it multiple times, but we can see that:\n",
    "1. Dictionaries are much faster in general than lists (µs vs ms)\n",
    "2. Search time does not scale with list length"
   ]
  }
 ],
 "metadata": {
  "kernelspec": {
   "display_name": "csprimers",
   "language": "python",
   "name": "python3"
  },
  "language_info": {
   "codemirror_mode": {
    "name": "ipython",
    "version": 3
   },
   "file_extension": ".py",
   "mimetype": "text/x-python",
   "name": "python",
   "nbconvert_exporter": "python",
   "pygments_lexer": "ipython3",
   "version": "3.9.19"
  }
 },
 "nbformat": 4,
 "nbformat_minor": 2
}
