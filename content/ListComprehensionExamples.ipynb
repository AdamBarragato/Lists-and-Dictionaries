{
  "metadata": {
    "kernelspec": {
      "name": "python",
      "display_name": "Python (Pyodide)",
      "language": "python"
    },
    "language_info": {
      "codemirror_mode": {
        "name": "python",
        "version": 3
      },
      "file_extension": ".py",
      "mimetype": "text/x-python",
      "name": "python",
      "nbconvert_exporter": "python",
      "pygments_lexer": "ipython3",
      "version": "3.8"
    }
  },
  "nbformat_minor": 4,
  "nbformat": 4,
  "cells": [
    {
      "cell_type": "markdown",
      "source": "# Module 2 Code Examples - List Comprehension",
      "metadata": {}
    },
    {
      "cell_type": "code",
      "source": "import csv\nfrom IPython.core.interactiveshell import InteractiveShell\nInteractiveShell.ast_node_interactivity = \"all\"",
      "metadata": {
        "trusted": true
      },
      "outputs": [],
      "execution_count": null
    },
    {
      "cell_type": "code",
      "source": "# for loop example\ndoubled = []\nfor number in range(10):\n    doubled.append(number * 2)\ndoubled",
      "metadata": {
        "trusted": true
      },
      "outputs": [],
      "execution_count": null
    },
    {
      "cell_type": "code",
      "source": "doubled = [number * 2 for number in range(10)] #this does the same thing as the example above!\ndoubled",
      "metadata": {
        "trusted": true
      },
      "outputs": [],
      "execution_count": null
    },
    {
      "cell_type": "markdown",
      "source": "Conditionals and List Comprehension",
      "metadata": {}
    },
    {
      "cell_type": "code",
      "source": "numbers = [1,2,3,4,5,6,7,8,9]\nprint([digit for digit in numbers if digit%2==0]) #using list comprehension to filter out odd numbers. Conditionals can also call functions!",
      "metadata": {
        "trusted": true
      },
      "outputs": [],
      "execution_count": null
    },
    {
      "cell_type": "code",
      "source": "print([digit if digit%2==0 else 0 for digit in numbers]) #use conditionals to change values in the new list for odd numbers",
      "metadata": {
        "trusted": true
      },
      "outputs": [],
      "execution_count": null
    },
    {
      "cell_type": "markdown",
      "source": "List comprehension is not as performant when the lists become very long",
      "metadata": {}
    },
    {
      "cell_type": "code",
      "source": "%%time\nsum([number * 2 for number in range(100000000)])",
      "metadata": {
        "trusted": true
      },
      "outputs": [],
      "execution_count": null
    },
    {
      "cell_type": "markdown",
      "source": "In this case, just the small tweak of not wrapping the statement in [] means that we're using a generator instead, which is better for larger lists",
      "metadata": {}
    },
    {
      "cell_type": "code",
      "source": "%%time\nsum(number * 2 for number in range(100000000))",
      "metadata": {
        "trusted": true
      },
      "outputs": [],
      "execution_count": null
    },
    {
      "cell_type": "markdown",
      "source": "Now, let's use what we learned!",
      "metadata": {}
    },
    {
      "cell_type": "code",
      "source": "import statistics\nwith open('iris.csv', 'r') as file:\n    reader = csv.DictReader(file)\n    data = [row for row in reader] # save the contents of the file into the data variable, which is a list of dictionaries\n    statistics.median(i['sepal.length'] for i in data) #uses a generator to find median from of all sepal lengths",
      "metadata": {
        "trusted": true
      },
      "outputs": [],
      "execution_count": null
    }
  ]
}